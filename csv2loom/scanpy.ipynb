{
 "cells": [
  {
   "cell_type": "code",
   "execution_count": 2,
   "metadata": {},
   "outputs": [],
   "source": [
    "import pandas as pd"
   ]
  },
  {
   "cell_type": "code",
   "execution_count": 6,
   "metadata": {},
   "outputs": [
    {
     "data": {
      "text/html": [
       "<div>\n",
       "<style scoped>\n",
       "    .dataframe tbody tr th:only-of-type {\n",
       "        vertical-align: middle;\n",
       "    }\n",
       "\n",
       "    .dataframe tbody tr th {\n",
       "        vertical-align: top;\n",
       "    }\n",
       "\n",
       "    .dataframe thead th {\n",
       "        text-align: right;\n",
       "    }\n",
       "</style>\n",
       "<table border=\"1\" class=\"dataframe\">\n",
       "  <thead>\n",
       "    <tr style=\"text-align: right;\">\n",
       "      <th></th>\n",
       "      <th>MuscleTR_2</th>\n",
       "      <th>MuscleTR_3</th>\n",
       "      <th>MuscleTR_4</th>\n",
       "      <th>MuscleTR_5</th>\n",
       "      <th>MuscleTR_6</th>\n",
       "      <th>MuscleTR_7</th>\n",
       "      <th>MuscleTR_9</th>\n",
       "      <th>MuscleTR_10</th>\n",
       "      <th>MuscleTR_11</th>\n",
       "      <th>MuscleTR_12</th>\n",
       "      <th>...</th>\n",
       "      <th>MuscleTR_rep2_1025</th>\n",
       "      <th>MuscleTR_rep2_1026</th>\n",
       "      <th>MuscleTR_rep2_1027</th>\n",
       "      <th>MuscleTR_rep2_1028</th>\n",
       "      <th>MuscleTR_rep2_1029</th>\n",
       "      <th>MuscleTR_rep2_1031</th>\n",
       "      <th>MuscleTR_rep2_1032</th>\n",
       "      <th>MuscleTR_rep2_1035</th>\n",
       "      <th>MuscleTR_rep2_1037</th>\n",
       "      <th>MuscleTR_rep2_1038</th>\n",
       "    </tr>\n",
       "  </thead>\n",
       "  <tbody>\n",
       "    <tr>\n",
       "      <th>Zglp1</th>\n",
       "      <td>0</td>\n",
       "      <td>0</td>\n",
       "      <td>0</td>\n",
       "      <td>0</td>\n",
       "      <td>0</td>\n",
       "      <td>0</td>\n",
       "      <td>0</td>\n",
       "      <td>0</td>\n",
       "      <td>0</td>\n",
       "      <td>0</td>\n",
       "      <td>...</td>\n",
       "      <td>0</td>\n",
       "      <td>0</td>\n",
       "      <td>0</td>\n",
       "      <td>0</td>\n",
       "      <td>0</td>\n",
       "      <td>0</td>\n",
       "      <td>0</td>\n",
       "      <td>0</td>\n",
       "      <td>0</td>\n",
       "      <td>0</td>\n",
       "    </tr>\n",
       "    <tr>\n",
       "      <th>Vmn2r65</th>\n",
       "      <td>0</td>\n",
       "      <td>0</td>\n",
       "      <td>0</td>\n",
       "      <td>0</td>\n",
       "      <td>0</td>\n",
       "      <td>0</td>\n",
       "      <td>0</td>\n",
       "      <td>0</td>\n",
       "      <td>0</td>\n",
       "      <td>0</td>\n",
       "      <td>...</td>\n",
       "      <td>0</td>\n",
       "      <td>0</td>\n",
       "      <td>0</td>\n",
       "      <td>0</td>\n",
       "      <td>0</td>\n",
       "      <td>0</td>\n",
       "      <td>0</td>\n",
       "      <td>0</td>\n",
       "      <td>0</td>\n",
       "      <td>0</td>\n",
       "    </tr>\n",
       "    <tr>\n",
       "      <th>Gm10024</th>\n",
       "      <td>0</td>\n",
       "      <td>0</td>\n",
       "      <td>0</td>\n",
       "      <td>0</td>\n",
       "      <td>0</td>\n",
       "      <td>0</td>\n",
       "      <td>0</td>\n",
       "      <td>0</td>\n",
       "      <td>0</td>\n",
       "      <td>0</td>\n",
       "      <td>...</td>\n",
       "      <td>0</td>\n",
       "      <td>0</td>\n",
       "      <td>0</td>\n",
       "      <td>0</td>\n",
       "      <td>0</td>\n",
       "      <td>0</td>\n",
       "      <td>0</td>\n",
       "      <td>0</td>\n",
       "      <td>0</td>\n",
       "      <td>0</td>\n",
       "    </tr>\n",
       "    <tr>\n",
       "      <th>F630206G17Rik</th>\n",
       "      <td>0</td>\n",
       "      <td>0</td>\n",
       "      <td>0</td>\n",
       "      <td>0</td>\n",
       "      <td>0</td>\n",
       "      <td>0</td>\n",
       "      <td>0</td>\n",
       "      <td>0</td>\n",
       "      <td>0</td>\n",
       "      <td>0</td>\n",
       "      <td>...</td>\n",
       "      <td>0</td>\n",
       "      <td>0</td>\n",
       "      <td>0</td>\n",
       "      <td>0</td>\n",
       "      <td>0</td>\n",
       "      <td>0</td>\n",
       "      <td>0</td>\n",
       "      <td>0</td>\n",
       "      <td>0</td>\n",
       "      <td>0</td>\n",
       "    </tr>\n",
       "    <tr>\n",
       "      <th>Oog3</th>\n",
       "      <td>0</td>\n",
       "      <td>0</td>\n",
       "      <td>0</td>\n",
       "      <td>0</td>\n",
       "      <td>0</td>\n",
       "      <td>0</td>\n",
       "      <td>0</td>\n",
       "      <td>0</td>\n",
       "      <td>0</td>\n",
       "      <td>0</td>\n",
       "      <td>...</td>\n",
       "      <td>0</td>\n",
       "      <td>0</td>\n",
       "      <td>0</td>\n",
       "      <td>0</td>\n",
       "      <td>0</td>\n",
       "      <td>0</td>\n",
       "      <td>0</td>\n",
       "      <td>0</td>\n",
       "      <td>0</td>\n",
       "      <td>0</td>\n",
       "    </tr>\n",
       "  </tbody>\n",
       "</table>\n",
       "<p>5 rows × 1627 columns</p>\n",
       "</div>"
      ],
      "text/plain": [
       "               MuscleTR_2  MuscleTR_3  MuscleTR_4  MuscleTR_5  MuscleTR_6  \\\n",
       "Zglp1                   0           0           0           0           0   \n",
       "Vmn2r65                 0           0           0           0           0   \n",
       "Gm10024                 0           0           0           0           0   \n",
       "F630206G17Rik           0           0           0           0           0   \n",
       "Oog3                    0           0           0           0           0   \n",
       "\n",
       "               MuscleTR_7  MuscleTR_9  MuscleTR_10  MuscleTR_11  MuscleTR_12  \\\n",
       "Zglp1                   0           0            0            0            0   \n",
       "Vmn2r65                 0           0            0            0            0   \n",
       "Gm10024                 0           0            0            0            0   \n",
       "F630206G17Rik           0           0            0            0            0   \n",
       "Oog3                    0           0            0            0            0   \n",
       "\n",
       "                      ...          MuscleTR_rep2_1025  MuscleTR_rep2_1026  \\\n",
       "Zglp1                 ...                           0                   0   \n",
       "Vmn2r65               ...                           0                   0   \n",
       "Gm10024               ...                           0                   0   \n",
       "F630206G17Rik         ...                           0                   0   \n",
       "Oog3                  ...                           0                   0   \n",
       "\n",
       "               MuscleTR_rep2_1027  MuscleTR_rep2_1028  MuscleTR_rep2_1029  \\\n",
       "Zglp1                           0                   0                   0   \n",
       "Vmn2r65                         0                   0                   0   \n",
       "Gm10024                         0                   0                   0   \n",
       "F630206G17Rik                   0                   0                   0   \n",
       "Oog3                            0                   0                   0   \n",
       "\n",
       "               MuscleTR_rep2_1031  MuscleTR_rep2_1032  MuscleTR_rep2_1035  \\\n",
       "Zglp1                           0                   0                   0   \n",
       "Vmn2r65                         0                   0                   0   \n",
       "Gm10024                         0                   0                   0   \n",
       "F630206G17Rik                   0                   0                   0   \n",
       "Oog3                            0                   0                   0   \n",
       "\n",
       "               MuscleTR_rep2_1037  MuscleTR_rep2_1038  \n",
       "Zglp1                           0                   0  \n",
       "Vmn2r65                         0                   0  \n",
       "Gm10024                         0                   0  \n",
       "F630206G17Rik                   0                   0  \n",
       "Oog3                            0                   0  \n",
       "\n",
       "[5 rows x 1627 columns]"
      ]
     },
     "execution_count": 6,
     "metadata": {},
     "output_type": "execute_result"
    }
   ],
   "source": [
    "pd.read_csv('GSE115125_indrops_MouseTreg_MuscleSpleen_counts.txt.gz', sep=' ').head()"
   ]
  },
  {
   "cell_type": "code",
   "execution_count": 1,
   "metadata": {},
   "outputs": [],
   "source": [
    "import scanpy as sc"
   ]
  },
  {
   "cell_type": "code",
   "execution_count": 2,
   "metadata": {},
   "outputs": [
    {
     "name": "stdout",
     "output_type": "stream",
     "text": [
      "scanpy==1.4 anndata==0.6.18 numpy==1.15.4 scipy==1.1.0 pandas==0.24.1 scikit-learn==0.20.1 statsmodels==0.9.0 python-igraph==0.7.1 louvain==0.6.1 \n"
     ]
    }
   ],
   "source": [
    "sc.logging.print_versions()"
   ]
  },
  {
   "cell_type": "code",
   "execution_count": 3,
   "metadata": {},
   "outputs": [],
   "source": [
    "adata = sc.read('GSE115125_indrops_MouseTreg_MuscleSpleen_counts.txt.gz', sep=' ').T"
   ]
  },
  {
   "cell_type": "code",
   "execution_count": 4,
   "metadata": {},
   "outputs": [
    {
     "data": {
      "text/html": [
       "<div>\n",
       "<style scoped>\n",
       "    .dataframe tbody tr th:only-of-type {\n",
       "        vertical-align: middle;\n",
       "    }\n",
       "\n",
       "    .dataframe tbody tr th {\n",
       "        vertical-align: top;\n",
       "    }\n",
       "\n",
       "    .dataframe thead th {\n",
       "        text-align: right;\n",
       "    }\n",
       "</style>\n",
       "<table border=\"1\" class=\"dataframe\">\n",
       "  <thead>\n",
       "    <tr style=\"text-align: right;\">\n",
       "      <th></th>\n",
       "    </tr>\n",
       "  </thead>\n",
       "  <tbody>\n",
       "    <tr>\n",
       "      <th>MuscleTR_2</th>\n",
       "    </tr>\n",
       "    <tr>\n",
       "      <th>MuscleTR_3</th>\n",
       "    </tr>\n",
       "    <tr>\n",
       "      <th>MuscleTR_4</th>\n",
       "    </tr>\n",
       "    <tr>\n",
       "      <th>MuscleTR_5</th>\n",
       "    </tr>\n",
       "    <tr>\n",
       "      <th>MuscleTR_6</th>\n",
       "    </tr>\n",
       "  </tbody>\n",
       "</table>\n",
       "</div>"
      ],
      "text/plain": [
       "Empty DataFrame\n",
       "Columns: []\n",
       "Index: [MuscleTR_2, MuscleTR_3, MuscleTR_4, MuscleTR_5, MuscleTR_6]"
      ]
     },
     "execution_count": 4,
     "metadata": {},
     "output_type": "execute_result"
    }
   ],
   "source": [
    "# 細胞\n",
    "adata.obs.head()"
   ]
  },
  {
   "cell_type": "code",
   "execution_count": 5,
   "metadata": {},
   "outputs": [
    {
     "data": {
      "text/html": [
       "<div>\n",
       "<style scoped>\n",
       "    .dataframe tbody tr th:only-of-type {\n",
       "        vertical-align: middle;\n",
       "    }\n",
       "\n",
       "    .dataframe tbody tr th {\n",
       "        vertical-align: top;\n",
       "    }\n",
       "\n",
       "    .dataframe thead th {\n",
       "        text-align: right;\n",
       "    }\n",
       "</style>\n",
       "<table border=\"1\" class=\"dataframe\">\n",
       "  <thead>\n",
       "    <tr style=\"text-align: right;\">\n",
       "      <th></th>\n",
       "    </tr>\n",
       "  </thead>\n",
       "  <tbody>\n",
       "    <tr>\n",
       "      <th>Zglp1</th>\n",
       "    </tr>\n",
       "    <tr>\n",
       "      <th>Vmn2r65</th>\n",
       "    </tr>\n",
       "    <tr>\n",
       "      <th>Gm10024</th>\n",
       "    </tr>\n",
       "    <tr>\n",
       "      <th>F630206G17Rik</th>\n",
       "    </tr>\n",
       "    <tr>\n",
       "      <th>Oog3</th>\n",
       "    </tr>\n",
       "  </tbody>\n",
       "</table>\n",
       "</div>"
      ],
      "text/plain": [
       "Empty DataFrame\n",
       "Columns: []\n",
       "Index: [Zglp1, Vmn2r65, Gm10024, F630206G17Rik, Oog3]"
      ]
     },
     "execution_count": 5,
     "metadata": {},
     "output_type": "execute_result"
    }
   ],
   "source": [
    "# 遺伝子\n",
    "adata.var.head()"
   ]
  },
  {
   "cell_type": "code",
   "execution_count": 7,
   "metadata": {},
   "outputs": [],
   "source": [
    "adata.write_loom(\"out.loom\")"
   ]
  },
  {
   "cell_type": "markdown",
   "metadata": {},
   "source": [
    "# プラナリアloomをscanpyで見る\n",
    "\n",
    "データは[Planaria Single Cell Atlas website](https://shiny.mdc-berlin.de/psca/)。\n",
    "\n",
    "### Getting data for the search\n",
    "\n",
    "```\n",
    "curl -O http://bimsbstatic.mdc-berlin.de/rajewsky/PSCA/all_sgete_4GU75.loom.gz\n",
    "gzip -dc all_sgete_4GU75.loom.gz > Plass2018.dge.loom\n",
    "```"
   ]
  },
  {
   "cell_type": "code",
   "execution_count": 1,
   "metadata": {},
   "outputs": [],
   "source": [
    "import scanpy as sc"
   ]
  },
  {
   "cell_type": "code",
   "execution_count": 2,
   "metadata": {},
   "outputs": [],
   "source": [
    "adata = sc.read('Plass2018.dge.loom')"
   ]
  },
  {
   "cell_type": "code",
   "execution_count": 3,
   "metadata": {},
   "outputs": [
    {
     "data": {
      "text/plain": [
       "AnnData object with n_obs × n_vars = 19141 × 23663 \n",
       "    var: 'Accession', 'Chromosome', 'End', 'Start', 'Strand'\n",
       "    layers: 'matrix', 'ambiguous', 'spliced', 'unspliced'"
      ]
     },
     "execution_count": 3,
     "metadata": {},
     "output_type": "execute_result"
    }
   ],
   "source": [
    "adata"
   ]
  },
  {
   "cell_type": "code",
   "execution_count": 5,
   "metadata": {},
   "outputs": [
    {
     "data": {
      "text/plain": [
       "matrix([[0., 0., 0., ..., 0., 0., 0.],\n",
       "        [0., 0., 0., ..., 0., 0., 0.],\n",
       "        [0., 0., 0., ..., 0., 0., 0.],\n",
       "        ...,\n",
       "        [0., 0., 0., ..., 1., 0., 0.],\n",
       "        [0., 0., 0., ..., 0., 0., 0.],\n",
       "        [1., 0., 0., ..., 0., 0., 0.]], dtype=float32)"
      ]
     },
     "execution_count": 5,
     "metadata": {},
     "output_type": "execute_result"
    }
   ],
   "source": [
    "adata.X.todense()"
   ]
  },
  {
   "cell_type": "code",
   "execution_count": 7,
   "metadata": {},
   "outputs": [
    {
     "data": {
      "text/html": [
       "<div>\n",
       "<style scoped>\n",
       "    .dataframe tbody tr th:only-of-type {\n",
       "        vertical-align: middle;\n",
       "    }\n",
       "\n",
       "    .dataframe tbody tr th {\n",
       "        vertical-align: top;\n",
       "    }\n",
       "\n",
       "    .dataframe thead th {\n",
       "        text-align: right;\n",
       "    }\n",
       "</style>\n",
       "<table border=\"1\" class=\"dataframe\">\n",
       "  <thead>\n",
       "    <tr style=\"text-align: right;\">\n",
       "      <th></th>\n",
       "    </tr>\n",
       "  </thead>\n",
       "  <tbody>\n",
       "    <tr>\n",
       "      <th>all_sgete_4GU75:AAAATTACTTGGCx</th>\n",
       "    </tr>\n",
       "    <tr>\n",
       "      <th>all_sgete_4GU75:AAAAGGTTTACTTx</th>\n",
       "    </tr>\n",
       "    <tr>\n",
       "      <th>all_sgete_4GU75:AAAAGACTAGTGTx</th>\n",
       "    </tr>\n",
       "    <tr>\n",
       "      <th>all_sgete_4GU75:AAACCCTAACAGCx</th>\n",
       "    </tr>\n",
       "    <tr>\n",
       "      <th>all_sgete_4GU75:AAACATGATGCGAx</th>\n",
       "    </tr>\n",
       "  </tbody>\n",
       "</table>\n",
       "</div>"
      ],
      "text/plain": [
       "Empty DataFrame\n",
       "Columns: []\n",
       "Index: [all_sgete_4GU75:AAAATTACTTGGCx, all_sgete_4GU75:AAAAGGTTTACTTx, all_sgete_4GU75:AAAAGACTAGTGTx, all_sgete_4GU75:AAACCCTAACAGCx, all_sgete_4GU75:AAACATGATGCGAx]"
      ]
     },
     "execution_count": 7,
     "metadata": {},
     "output_type": "execute_result"
    }
   ],
   "source": [
    "adata.obs.head()"
   ]
  },
  {
   "cell_type": "code",
   "execution_count": 8,
   "metadata": {},
   "outputs": [
    {
     "data": {
      "text/html": [
       "<div>\n",
       "<style scoped>\n",
       "    .dataframe tbody tr th:only-of-type {\n",
       "        vertical-align: middle;\n",
       "    }\n",
       "\n",
       "    .dataframe tbody tr th {\n",
       "        vertical-align: top;\n",
       "    }\n",
       "\n",
       "    .dataframe thead th {\n",
       "        text-align: right;\n",
       "    }\n",
       "</style>\n",
       "<table border=\"1\" class=\"dataframe\">\n",
       "  <thead>\n",
       "    <tr style=\"text-align: right;\">\n",
       "      <th></th>\n",
       "      <th>Accession</th>\n",
       "      <th>Chromosome</th>\n",
       "      <th>End</th>\n",
       "      <th>Start</th>\n",
       "      <th>Strand</th>\n",
       "    </tr>\n",
       "  </thead>\n",
       "  <tbody>\n",
       "    <tr>\n",
       "      <th>dd_Smed_v6_3533_0</th>\n",
       "      <td>dd_Smed_v6_3533_0</td>\n",
       "      <td>C8098283</td>\n",
       "      <td>8268</td>\n",
       "      <td>1</td>\n",
       "      <td>+</td>\n",
       "    </tr>\n",
       "    <tr>\n",
       "      <th>dd_Smed_v6_57321_0</th>\n",
       "      <td>dd_Smed_v6_57321_0</td>\n",
       "      <td>scaffold1</td>\n",
       "      <td>59801</td>\n",
       "      <td>59365</td>\n",
       "      <td>-</td>\n",
       "    </tr>\n",
       "    <tr>\n",
       "      <th>dd_Smed_v6_28593_0</th>\n",
       "      <td>dd_Smed_v6_28593_0</td>\n",
       "      <td>scaffold1</td>\n",
       "      <td>72631</td>\n",
       "      <td>72210</td>\n",
       "      <td>-</td>\n",
       "    </tr>\n",
       "    <tr>\n",
       "      <th>dd_Smed_v6_15993_0</th>\n",
       "      <td>dd_Smed_v6_15993_0</td>\n",
       "      <td>scaffold1</td>\n",
       "      <td>7548</td>\n",
       "      <td>1207</td>\n",
       "      <td>+</td>\n",
       "    </tr>\n",
       "    <tr>\n",
       "      <th>dd_Smed_v6_3581_0</th>\n",
       "      <td>dd_Smed_v6_3581_0</td>\n",
       "      <td>scaffold100</td>\n",
       "      <td>31532</td>\n",
       "      <td>10259</td>\n",
       "      <td>-</td>\n",
       "    </tr>\n",
       "  </tbody>\n",
       "</table>\n",
       "</div>"
      ],
      "text/plain": [
       "                             Accession   Chromosome    End  Start Strand\n",
       "dd_Smed_v6_3533_0    dd_Smed_v6_3533_0     C8098283   8268      1      +\n",
       "dd_Smed_v6_57321_0  dd_Smed_v6_57321_0    scaffold1  59801  59365      -\n",
       "dd_Smed_v6_28593_0  dd_Smed_v6_28593_0    scaffold1  72631  72210      -\n",
       "dd_Smed_v6_15993_0  dd_Smed_v6_15993_0    scaffold1   7548   1207      +\n",
       "dd_Smed_v6_3581_0    dd_Smed_v6_3581_0  scaffold100  31532  10259      -"
      ]
     },
     "execution_count": 8,
     "metadata": {},
     "output_type": "execute_result"
    }
   ],
   "source": [
    "adata.var.head()"
   ]
  },
  {
   "cell_type": "code",
   "execution_count": null,
   "metadata": {},
   "outputs": [],
   "source": []
  }
 ],
 "metadata": {
  "jupytext": {},
  "kernelspec": {
   "display_name": "Python 3",
   "language": "python",
   "name": "python3"
  },
  "language_info": {
   "codemirror_mode": {
    "name": "ipython",
    "version": 3
   },
   "file_extension": ".py",
   "mimetype": "text/x-python",
   "name": "python",
   "nbconvert_exporter": "python",
   "pygments_lexer": "ipython3",
   "version": "3.6.7"
  }
 },
 "nbformat": 4,
 "nbformat_minor": 2
}
