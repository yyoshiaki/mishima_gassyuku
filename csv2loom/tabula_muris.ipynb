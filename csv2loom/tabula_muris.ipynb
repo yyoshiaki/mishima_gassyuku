{
 "cells": [
  {
   "cell_type": "markdown",
   "metadata": {},
   "source": [
    "# Tabula Muris\n",
    "\n",
    "- https://tabula-muris.ds.czbiohub.org/\n",
    "- https://www.ncbi.nlm.nih.gov/geo/query/acc.cgi?acc=GSE109774\n",
    "\n",
    "Abstract\n",
    "Tabula Muris is a compendium of single cell transcriptome data from the model organism Mus musculus, containing nearly 100,000 cells from 20 organs and tissues. The data allow for direct and controlled comparison of gene expression in cell types shared between tissues, such as immune cells from distinct anatomical locations. They also allow for a comparison of two distinct technical approaches:\n",
    "\n",
    "microfluidic droplet-based 3’-end counting: provides a survey of thousands of cells per organ at relatively low coverage\n",
    "FACS-based full length transcript analysis: provides higher sensitivity and coverage.\n",
    "We hope this rich collection of annotated cells will be a useful resource for:\n",
    "\n",
    "Defining gene expression in previously poorly-characterized cell populations.\n",
    "Validating findings in future targeted single-cell studies.\n",
    "Developing of methods for integrating datasets (eg between the FACS and droplet experiments), characterizing batch effects, and quantifying the variation of gene expression in a many cell types between organs and animals.\n",
    "The peer reviewed article describing the analysis and findings is available on Nature.\n",
    "\n",
    "[Figshare](https://figshare.com/projects/Tabula_Muris_Transcriptomic_characterization_of_20_organs_and_tissues_from_Mus_musculus_at_single_cell_resolution/27733)に公開されていた。以下の手順で`./data/tabula_muris`にダウンロード、解凍。\n",
    "\n",
    "```\n",
    "wget https://ndownloader.figshare.com/files/10700143\n",
    "unzip 10700143\n",
    "wget https://ndownloader.figshare.com/files/10700161\n",
    "mv 10700161 metadata_droplet.csv\n",
    "wget https://ndownloader.figshare.com/files/13088039\n",
    "mv 13088039 annotations_droplet.csv\n",
    "\n",
    "# droplet\n",
    "wget https://ndownloader.figshare.com/files/10700167\n",
    "unzip 10700167\n",
    "wget https://ndownloader.figshare.com/files/13088129\n",
    "mv 13088129 annotations_facs.csv\n",
    "wget https://ndownloader.figshare.com/files/10842785\n",
    "mv 10842785 metadata_FACS.csv\n",
    "```\n"
   ]
  },
  {
   "cell_type": "code",
   "execution_count": 2,
   "metadata": {},
   "outputs": [],
   "source": [
    "import numpy as np\n",
    "import pandas as pd\n",
    "# import scanpy.api as sc\n",
    "import scanpy as sc # versin1.4 以降\n",
    "import matplotlib.pyplot as plt\n",
    "import os\n",
    "import seaborn as sns\n",
    "%matplotlib inline"
   ]
  },
  {
   "cell_type": "code",
   "execution_count": 3,
   "metadata": {},
   "outputs": [
    {
     "name": "stdout",
     "output_type": "stream",
     "text": [
      "Running Scanpy 1.4 on 2019-03-07 20:56.\n",
      "Dependencies: anndata==0.6.18 numpy==1.15.4 scipy==1.1.0 pandas==0.24.1 scikit-learn==0.20.1 statsmodels==0.9.0 python-igraph==0.7.1 louvain==0.6.1 \n"
     ]
    }
   ],
   "source": [
    "sc.settings.verbosity = 3  # verbosity: errors (0), warnings (1), info (2), hints (3)\n",
    "sc.settings.set_figure_params(dpi=80, color_map='viridis', transparent=False)  # low dpi (dots per inch) yields small inline figures\n",
    "\n",
    "import matplotlib as mpl\n",
    "# 2 lines below solved the facecolor problem.\n",
    "# mpl.rcParams['figure.facecolor'] = 'white'\n",
    "mpl.rcParams['figure.facecolor'] = (1,1,1,1)\n",
    "\n",
    "sc.settings.autosave = True\n",
    "sc.logging.print_version_and_date()\n",
    "sc.logging.print_versions_dependencies_numerics()\n",
    "# results_file = './scanpy/write/180313merge.mt.h5ad'\n",
    "# sc.settings.figdir = './scanpy/write/180313merge.mt/graph'\n",
    "# results_file = './scanpy/write/180514merge.mt.h5ad'\n",
    "# sc.settings.figdir = './scanpy/write/180514merge.mt/graph'\n",
    "# sc.settings.cachedir = './scanpy/write/180514merge.mt/cache'\n",
    "\n",
    "version_date = '20190307'\n",
    "results_file_facs = 'scdata/{}_tabula_muris_facs.loom'.format(version_date)\n",
    "results_file_droplet = 'scdata/{}_tabula_muris_droplet.loom'.format(version_date)\n",
    "sc.settings.figdir = 'scdata/{}_tabula_muris/graph'.format(version_date)\n",
    "%config InlineBackend.figure_format = 'retina'\n",
    "# %config InlineBackend.figure_format = 'svg'"
   ]
  },
  {
   "cell_type": "code",
   "execution_count": 4,
   "metadata": {},
   "outputs": [],
   "source": [
    "root_dir_data = 'data/tabula_muris/'\n",
    "\n",
    "list_csv_facs = [x for x in os.listdir(root_dir_data+'FACS') if x[-3:]=='csv']\n",
    "list_csv_droplet = [x for x in os.listdir(root_dir_data+'droplet') if x[0]!='.']"
   ]
  },
  {
   "cell_type": "code",
   "execution_count": 5,
   "metadata": {},
   "outputs": [
    {
     "name": "stdout",
     "output_type": "stream",
     "text": [
      "--> This might be very slow. Consider passing `cache=True`, which enables much faster reading from a cache file.\n",
      "--> This might be very slow. Consider passing `cache=True`, which enables much faster reading from a cache file.\n",
      "--> This might be very slow. Consider passing `cache=True`, which enables much faster reading from a cache file.\n",
      "--> This might be very slow. Consider passing `cache=True`, which enables much faster reading from a cache file.\n",
      "--> This might be very slow. Consider passing `cache=True`, which enables much faster reading from a cache file.\n",
      "--> This might be very slow. Consider passing `cache=True`, which enables much faster reading from a cache file.\n",
      "--> This might be very slow. Consider passing `cache=True`, which enables much faster reading from a cache file.\n",
      "--> This might be very slow. Consider passing `cache=True`, which enables much faster reading from a cache file.\n",
      "--> This might be very slow. Consider passing `cache=True`, which enables much faster reading from a cache file.\n",
      "--> This might be very slow. Consider passing `cache=True`, which enables much faster reading from a cache file.\n",
      "--> This might be very slow. Consider passing `cache=True`, which enables much faster reading from a cache file.\n",
      "--> This might be very slow. Consider passing `cache=True`, which enables much faster reading from a cache file.\n",
      "--> This might be very slow. Consider passing `cache=True`, which enables much faster reading from a cache file.\n",
      "--> This might be very slow. Consider passing `cache=True`, which enables much faster reading from a cache file.\n",
      "--> This might be very slow. Consider passing `cache=True`, which enables much faster reading from a cache file.\n",
      "--> This might be very slow. Consider passing `cache=True`, which enables much faster reading from a cache file.\n",
      "--> This might be very slow. Consider passing `cache=True`, which enables much faster reading from a cache file.\n",
      "--> This might be very slow. Consider passing `cache=True`, which enables much faster reading from a cache file.\n",
      "--> This might be very slow. Consider passing `cache=True`, which enables much faster reading from a cache file.\n",
      "--> This might be very slow. Consider passing `cache=True`, which enables much faster reading from a cache file.\n",
      "--> This might be very slow. Consider passing `cache=True`, which enables much faster reading from a cache file.\n",
      "--> This might be very slow. Consider passing `cache=True`, which enables much faster reading from a cache file.\n",
      "--> This might be very slow. Consider passing `cache=True`, which enables much faster reading from a cache file.\n",
      "--> This might be very slow. Consider passing `cache=True`, which enables much faster reading from a cache file.\n",
      "--> This might be very slow. Consider passing `cache=True`, which enables much faster reading from a cache file.\n",
      "--> This might be very slow. Consider passing `cache=True`, which enables much faster reading from a cache file.\n",
      "--> This might be very slow. Consider passing `cache=True`, which enables much faster reading from a cache file.\n",
      "--> This might be very slow. Consider passing `cache=True`, which enables much faster reading from a cache file.\n"
     ]
    },
    {
     "name": "stderr",
     "output_type": "stream",
     "text": [
      "<string>:2: DtypeWarning: Columns (10,12,14) have mixed types. Specify dtype option on import or set low_memory=False.\n"
     ]
    },
    {
     "name": "stdout",
     "output_type": "stream",
     "text": [
      "CPU times: user 3min 31s, sys: 16.5 s, total: 3min 48s\n",
      "Wall time: 3min 38s\n"
     ]
    }
   ],
   "source": [
    "%%time\n",
    "for i, f in enumerate(list_csv_droplet):\n",
    "    if i == 0:\n",
    "        adata_droplet = sc.read_10x_mtx(root_dir_data+'droplet/'+f)\n",
    "        adata_droplet.obs.index = [f.split('-')[1]+'_'+x.split('-')[0] for x in adata_droplet.obs.index]\n",
    "    else:\n",
    "        _adata = sc.read_10x_mtx(root_dir_data+'droplet/'+f)\n",
    "        _adata.obs.index = [f.split('-')[1]+'_'+x.split('-')[0] for x in _adata.obs.index]\n",
    "        adata_droplet = adata_droplet.concatenate(_adata)\n",
    "\n",
    "_adata = 0\n",
    "adata_droplet.var = adata_droplet.var.drop(list(adata_droplet.var.columns), axis=1)\n",
    "adata_droplet.obs.index = [x.split('-')[0] for x in adata_droplet.obs.index]\n",
    "\n",
    "df_anno_droplet = pd.read_csv('data/tabula_muris/annotations_droplet.csv', index_col=0)\n",
    "df_anno_droplet.head()\n",
    "\n",
    "adata_droplet = adata_droplet[df_anno_droplet.index,:]\n",
    "\n",
    "for c in df_anno_droplet.columns:\n",
    "    adata_droplet.obs[c] = df_anno_droplet.loc[adata_droplet.obs.index, c]"
   ]
  },
  {
   "cell_type": "code",
   "execution_count": 7,
   "metadata": {},
   "outputs": [
    {
     "data": {
      "text/plain": [
       "AnnData object with n_obs × n_vars = 55656 × 23433 \n",
       "    obs: 'batch', 'cell_ontology_class', 'cell_ontology_id', 'channel', 'cluster.ids', 'free_annotation', 'mouse.id', 'mouse.sex', 'subsetA', 'subsetA_cluster.ids', 'subsetB', 'subsetB_cluster.ids', 'subsetC', 'subsetC_cluster.ids', 'subsetD', 'subsetD_cluster.ids', 'subtissue', 'tissue', 'tissue_tSNE_1', 'tissue_tSNE_2'"
      ]
     },
     "execution_count": 7,
     "metadata": {},
     "output_type": "execute_result"
    }
   ],
   "source": [
    "adata_droplet"
   ]
  },
  {
   "cell_type": "code",
   "execution_count": 6,
   "metadata": {},
   "outputs": [],
   "source": [
    "adata_droplet.write_loom(results_file_droplet)"
   ]
  }
 ],
 "metadata": {
  "jupytext": {},
  "kernelspec": {
   "display_name": "Python 3",
   "language": "python",
   "name": "python3"
  },
  "language_info": {
   "codemirror_mode": {
    "name": "ipython",
    "version": 3
   },
   "file_extension": ".py",
   "mimetype": "text/x-python",
   "name": "python",
   "nbconvert_exporter": "python",
   "pygments_lexer": "ipython3",
   "version": "3.6.6"
  }
 },
 "nbformat": 4,
 "nbformat_minor": 2
}
